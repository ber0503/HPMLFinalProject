{
  "nbformat": 4,
  "nbformat_minor": 0,
  "metadata": {
    "colab": {
      "provenance": [],
      "gpuType": "A100"
    },
    "kernelspec": {
      "name": "python3",
      "display_name": "Python 3"
    },
    "language_info": {
      "name": "python"
    },
    "accelerator": "GPU",
    "widgets": {
      "application/vnd.jupyter.widget-state+json": {
        "d1df0144bb0f49dbad3590bae25d4105": {
          "model_module": "@jupyter-widgets/controls",
          "model_name": "HBoxModel",
          "model_module_version": "1.5.0",
          "state": {
            "_dom_classes": [],
            "_model_module": "@jupyter-widgets/controls",
            "_model_module_version": "1.5.0",
            "_model_name": "HBoxModel",
            "_view_count": null,
            "_view_module": "@jupyter-widgets/controls",
            "_view_module_version": "1.5.0",
            "_view_name": "HBoxView",
            "box_style": "",
            "children": [
              "IPY_MODEL_d393b37a566947d58dd207261a497020",
              "IPY_MODEL_e2e3b06035d44a53ab85a6c02be4575b",
              "IPY_MODEL_7854f82a7f15495cbc60c6b40d989b92"
            ],
            "layout": "IPY_MODEL_65e4e36a12fd49e59f378ffa8508b55e"
          }
        },
        "d393b37a566947d58dd207261a497020": {
          "model_module": "@jupyter-widgets/controls",
          "model_name": "HTMLModel",
          "model_module_version": "1.5.0",
          "state": {
            "_dom_classes": [],
            "_model_module": "@jupyter-widgets/controls",
            "_model_module_version": "1.5.0",
            "_model_name": "HTMLModel",
            "_view_count": null,
            "_view_module": "@jupyter-widgets/controls",
            "_view_module_version": "1.5.0",
            "_view_name": "HTMLView",
            "description": "",
            "description_tooltip": null,
            "layout": "IPY_MODEL_61781d6b7d4343949b90e211fcf25ed4",
            "placeholder": "​",
            "style": "IPY_MODEL_27eb9d4a14c74f0399159c55ffabecec",
            "value": "vocab.txt: 100%"
          }
        },
        "e2e3b06035d44a53ab85a6c02be4575b": {
          "model_module": "@jupyter-widgets/controls",
          "model_name": "FloatProgressModel",
          "model_module_version": "1.5.0",
          "state": {
            "_dom_classes": [],
            "_model_module": "@jupyter-widgets/controls",
            "_model_module_version": "1.5.0",
            "_model_name": "FloatProgressModel",
            "_view_count": null,
            "_view_module": "@jupyter-widgets/controls",
            "_view_module_version": "1.5.0",
            "_view_name": "ProgressView",
            "bar_style": "success",
            "description": "",
            "description_tooltip": null,
            "layout": "IPY_MODEL_b0a8b592ab2b410aa9bdf8778d936b30",
            "max": 231508,
            "min": 0,
            "orientation": "horizontal",
            "style": "IPY_MODEL_edd31c5cb4234cad9a8bb65a1ac8c812",
            "value": 231508
          }
        },
        "7854f82a7f15495cbc60c6b40d989b92": {
          "model_module": "@jupyter-widgets/controls",
          "model_name": "HTMLModel",
          "model_module_version": "1.5.0",
          "state": {
            "_dom_classes": [],
            "_model_module": "@jupyter-widgets/controls",
            "_model_module_version": "1.5.0",
            "_model_name": "HTMLModel",
            "_view_count": null,
            "_view_module": "@jupyter-widgets/controls",
            "_view_module_version": "1.5.0",
            "_view_name": "HTMLView",
            "description": "",
            "description_tooltip": null,
            "layout": "IPY_MODEL_c25e625cbc464b169468f1dc9e625953",
            "placeholder": "​",
            "style": "IPY_MODEL_ff5ae9a9175e43338d3b93b2eb4bf852",
            "value": " 232k/232k [00:00&lt;00:00, 3.44MB/s]"
          }
        },
        "65e4e36a12fd49e59f378ffa8508b55e": {
          "model_module": "@jupyter-widgets/base",
          "model_name": "LayoutModel",
          "model_module_version": "1.2.0",
          "state": {
            "_model_module": "@jupyter-widgets/base",
            "_model_module_version": "1.2.0",
            "_model_name": "LayoutModel",
            "_view_count": null,
            "_view_module": "@jupyter-widgets/base",
            "_view_module_version": "1.2.0",
            "_view_name": "LayoutView",
            "align_content": null,
            "align_items": null,
            "align_self": null,
            "border": null,
            "bottom": null,
            "display": null,
            "flex": null,
            "flex_flow": null,
            "grid_area": null,
            "grid_auto_columns": null,
            "grid_auto_flow": null,
            "grid_auto_rows": null,
            "grid_column": null,
            "grid_gap": null,
            "grid_row": null,
            "grid_template_areas": null,
            "grid_template_columns": null,
            "grid_template_rows": null,
            "height": null,
            "justify_content": null,
            "justify_items": null,
            "left": null,
            "margin": null,
            "max_height": null,
            "max_width": null,
            "min_height": null,
            "min_width": null,
            "object_fit": null,
            "object_position": null,
            "order": null,
            "overflow": null,
            "overflow_x": null,
            "overflow_y": null,
            "padding": null,
            "right": null,
            "top": null,
            "visibility": null,
            "width": null
          }
        },
        "61781d6b7d4343949b90e211fcf25ed4": {
          "model_module": "@jupyter-widgets/base",
          "model_name": "LayoutModel",
          "model_module_version": "1.2.0",
          "state": {
            "_model_module": "@jupyter-widgets/base",
            "_model_module_version": "1.2.0",
            "_model_name": "LayoutModel",
            "_view_count": null,
            "_view_module": "@jupyter-widgets/base",
            "_view_module_version": "1.2.0",
            "_view_name": "LayoutView",
            "align_content": null,
            "align_items": null,
            "align_self": null,
            "border": null,
            "bottom": null,
            "display": null,
            "flex": null,
            "flex_flow": null,
            "grid_area": null,
            "grid_auto_columns": null,
            "grid_auto_flow": null,
            "grid_auto_rows": null,
            "grid_column": null,
            "grid_gap": null,
            "grid_row": null,
            "grid_template_areas": null,
            "grid_template_columns": null,
            "grid_template_rows": null,
            "height": null,
            "justify_content": null,
            "justify_items": null,
            "left": null,
            "margin": null,
            "max_height": null,
            "max_width": null,
            "min_height": null,
            "min_width": null,
            "object_fit": null,
            "object_position": null,
            "order": null,
            "overflow": null,
            "overflow_x": null,
            "overflow_y": null,
            "padding": null,
            "right": null,
            "top": null,
            "visibility": null,
            "width": null
          }
        },
        "27eb9d4a14c74f0399159c55ffabecec": {
          "model_module": "@jupyter-widgets/controls",
          "model_name": "DescriptionStyleModel",
          "model_module_version": "1.5.0",
          "state": {
            "_model_module": "@jupyter-widgets/controls",
            "_model_module_version": "1.5.0",
            "_model_name": "DescriptionStyleModel",
            "_view_count": null,
            "_view_module": "@jupyter-widgets/base",
            "_view_module_version": "1.2.0",
            "_view_name": "StyleView",
            "description_width": ""
          }
        },
        "b0a8b592ab2b410aa9bdf8778d936b30": {
          "model_module": "@jupyter-widgets/base",
          "model_name": "LayoutModel",
          "model_module_version": "1.2.0",
          "state": {
            "_model_module": "@jupyter-widgets/base",
            "_model_module_version": "1.2.0",
            "_model_name": "LayoutModel",
            "_view_count": null,
            "_view_module": "@jupyter-widgets/base",
            "_view_module_version": "1.2.0",
            "_view_name": "LayoutView",
            "align_content": null,
            "align_items": null,
            "align_self": null,
            "border": null,
            "bottom": null,
            "display": null,
            "flex": null,
            "flex_flow": null,
            "grid_area": null,
            "grid_auto_columns": null,
            "grid_auto_flow": null,
            "grid_auto_rows": null,
            "grid_column": null,
            "grid_gap": null,
            "grid_row": null,
            "grid_template_areas": null,
            "grid_template_columns": null,
            "grid_template_rows": null,
            "height": null,
            "justify_content": null,
            "justify_items": null,
            "left": null,
            "margin": null,
            "max_height": null,
            "max_width": null,
            "min_height": null,
            "min_width": null,
            "object_fit": null,
            "object_position": null,
            "order": null,
            "overflow": null,
            "overflow_x": null,
            "overflow_y": null,
            "padding": null,
            "right": null,
            "top": null,
            "visibility": null,
            "width": null
          }
        },
        "edd31c5cb4234cad9a8bb65a1ac8c812": {
          "model_module": "@jupyter-widgets/controls",
          "model_name": "ProgressStyleModel",
          "model_module_version": "1.5.0",
          "state": {
            "_model_module": "@jupyter-widgets/controls",
            "_model_module_version": "1.5.0",
            "_model_name": "ProgressStyleModel",
            "_view_count": null,
            "_view_module": "@jupyter-widgets/base",
            "_view_module_version": "1.2.0",
            "_view_name": "StyleView",
            "bar_color": null,
            "description_width": ""
          }
        },
        "c25e625cbc464b169468f1dc9e625953": {
          "model_module": "@jupyter-widgets/base",
          "model_name": "LayoutModel",
          "model_module_version": "1.2.0",
          "state": {
            "_model_module": "@jupyter-widgets/base",
            "_model_module_version": "1.2.0",
            "_model_name": "LayoutModel",
            "_view_count": null,
            "_view_module": "@jupyter-widgets/base",
            "_view_module_version": "1.2.0",
            "_view_name": "LayoutView",
            "align_content": null,
            "align_items": null,
            "align_self": null,
            "border": null,
            "bottom": null,
            "display": null,
            "flex": null,
            "flex_flow": null,
            "grid_area": null,
            "grid_auto_columns": null,
            "grid_auto_flow": null,
            "grid_auto_rows": null,
            "grid_column": null,
            "grid_gap": null,
            "grid_row": null,
            "grid_template_areas": null,
            "grid_template_columns": null,
            "grid_template_rows": null,
            "height": null,
            "justify_content": null,
            "justify_items": null,
            "left": null,
            "margin": null,
            "max_height": null,
            "max_width": null,
            "min_height": null,
            "min_width": null,
            "object_fit": null,
            "object_position": null,
            "order": null,
            "overflow": null,
            "overflow_x": null,
            "overflow_y": null,
            "padding": null,
            "right": null,
            "top": null,
            "visibility": null,
            "width": null
          }
        },
        "ff5ae9a9175e43338d3b93b2eb4bf852": {
          "model_module": "@jupyter-widgets/controls",
          "model_name": "DescriptionStyleModel",
          "model_module_version": "1.5.0",
          "state": {
            "_model_module": "@jupyter-widgets/controls",
            "_model_module_version": "1.5.0",
            "_model_name": "DescriptionStyleModel",
            "_view_count": null,
            "_view_module": "@jupyter-widgets/base",
            "_view_module_version": "1.2.0",
            "_view_name": "StyleView",
            "description_width": ""
          }
        },
        "d7ca7d0daa8c40b0a4ed58322c86d558": {
          "model_module": "@jupyter-widgets/controls",
          "model_name": "HBoxModel",
          "model_module_version": "1.5.0",
          "state": {
            "_dom_classes": [],
            "_model_module": "@jupyter-widgets/controls",
            "_model_module_version": "1.5.0",
            "_model_name": "HBoxModel",
            "_view_count": null,
            "_view_module": "@jupyter-widgets/controls",
            "_view_module_version": "1.5.0",
            "_view_name": "HBoxView",
            "box_style": "",
            "children": [
              "IPY_MODEL_e1270217533d473a8269282e94d87c98",
              "IPY_MODEL_ca8e141d0acb4ba0938c916499845c6d",
              "IPY_MODEL_eafbb344eb1f4bd991bd0510807957e5"
            ],
            "layout": "IPY_MODEL_86e9730debb147b6822f1dec2831207a"
          }
        },
        "e1270217533d473a8269282e94d87c98": {
          "model_module": "@jupyter-widgets/controls",
          "model_name": "HTMLModel",
          "model_module_version": "1.5.0",
          "state": {
            "_dom_classes": [],
            "_model_module": "@jupyter-widgets/controls",
            "_model_module_version": "1.5.0",
            "_model_name": "HTMLModel",
            "_view_count": null,
            "_view_module": "@jupyter-widgets/controls",
            "_view_module_version": "1.5.0",
            "_view_name": "HTMLView",
            "description": "",
            "description_tooltip": null,
            "layout": "IPY_MODEL_2f9b4d23f16b4fb5b96ab966241472b8",
            "placeholder": "​",
            "style": "IPY_MODEL_1fd37b0859aa4aa29f4b0ec18a22cd25",
            "value": "config.json: 100%"
          }
        },
        "ca8e141d0acb4ba0938c916499845c6d": {
          "model_module": "@jupyter-widgets/controls",
          "model_name": "FloatProgressModel",
          "model_module_version": "1.5.0",
          "state": {
            "_dom_classes": [],
            "_model_module": "@jupyter-widgets/controls",
            "_model_module_version": "1.5.0",
            "_model_name": "FloatProgressModel",
            "_view_count": null,
            "_view_module": "@jupyter-widgets/controls",
            "_view_module_version": "1.5.0",
            "_view_name": "ProgressView",
            "bar_style": "success",
            "description": "",
            "description_tooltip": null,
            "layout": "IPY_MODEL_e1b892773b8d42e9a6e164c5a4e6e5d5",
            "max": 285,
            "min": 0,
            "orientation": "horizontal",
            "style": "IPY_MODEL_58b23f2107884f57b52c29984393713b",
            "value": 285
          }
        },
        "eafbb344eb1f4bd991bd0510807957e5": {
          "model_module": "@jupyter-widgets/controls",
          "model_name": "HTMLModel",
          "model_module_version": "1.5.0",
          "state": {
            "_dom_classes": [],
            "_model_module": "@jupyter-widgets/controls",
            "_model_module_version": "1.5.0",
            "_model_name": "HTMLModel",
            "_view_count": null,
            "_view_module": "@jupyter-widgets/controls",
            "_view_module_version": "1.5.0",
            "_view_name": "HTMLView",
            "description": "",
            "description_tooltip": null,
            "layout": "IPY_MODEL_28f60762399b457ab7ee0f894821dbb9",
            "placeholder": "​",
            "style": "IPY_MODEL_15d40d51a0c943daab434e04f1bb2139",
            "value": " 285/285 [00:00&lt;00:00, 31.8kB/s]"
          }
        },
        "86e9730debb147b6822f1dec2831207a": {
          "model_module": "@jupyter-widgets/base",
          "model_name": "LayoutModel",
          "model_module_version": "1.2.0",
          "state": {
            "_model_module": "@jupyter-widgets/base",
            "_model_module_version": "1.2.0",
            "_model_name": "LayoutModel",
            "_view_count": null,
            "_view_module": "@jupyter-widgets/base",
            "_view_module_version": "1.2.0",
            "_view_name": "LayoutView",
            "align_content": null,
            "align_items": null,
            "align_self": null,
            "border": null,
            "bottom": null,
            "display": null,
            "flex": null,
            "flex_flow": null,
            "grid_area": null,
            "grid_auto_columns": null,
            "grid_auto_flow": null,
            "grid_auto_rows": null,
            "grid_column": null,
            "grid_gap": null,
            "grid_row": null,
            "grid_template_areas": null,
            "grid_template_columns": null,
            "grid_template_rows": null,
            "height": null,
            "justify_content": null,
            "justify_items": null,
            "left": null,
            "margin": null,
            "max_height": null,
            "max_width": null,
            "min_height": null,
            "min_width": null,
            "object_fit": null,
            "object_position": null,
            "order": null,
            "overflow": null,
            "overflow_x": null,
            "overflow_y": null,
            "padding": null,
            "right": null,
            "top": null,
            "visibility": null,
            "width": null
          }
        },
        "2f9b4d23f16b4fb5b96ab966241472b8": {
          "model_module": "@jupyter-widgets/base",
          "model_name": "LayoutModel",
          "model_module_version": "1.2.0",
          "state": {
            "_model_module": "@jupyter-widgets/base",
            "_model_module_version": "1.2.0",
            "_model_name": "LayoutModel",
            "_view_count": null,
            "_view_module": "@jupyter-widgets/base",
            "_view_module_version": "1.2.0",
            "_view_name": "LayoutView",
            "align_content": null,
            "align_items": null,
            "align_self": null,
            "border": null,
            "bottom": null,
            "display": null,
            "flex": null,
            "flex_flow": null,
            "grid_area": null,
            "grid_auto_columns": null,
            "grid_auto_flow": null,
            "grid_auto_rows": null,
            "grid_column": null,
            "grid_gap": null,
            "grid_row": null,
            "grid_template_areas": null,
            "grid_template_columns": null,
            "grid_template_rows": null,
            "height": null,
            "justify_content": null,
            "justify_items": null,
            "left": null,
            "margin": null,
            "max_height": null,
            "max_width": null,
            "min_height": null,
            "min_width": null,
            "object_fit": null,
            "object_position": null,
            "order": null,
            "overflow": null,
            "overflow_x": null,
            "overflow_y": null,
            "padding": null,
            "right": null,
            "top": null,
            "visibility": null,
            "width": null
          }
        },
        "1fd37b0859aa4aa29f4b0ec18a22cd25": {
          "model_module": "@jupyter-widgets/controls",
          "model_name": "DescriptionStyleModel",
          "model_module_version": "1.5.0",
          "state": {
            "_model_module": "@jupyter-widgets/controls",
            "_model_module_version": "1.5.0",
            "_model_name": "DescriptionStyleModel",
            "_view_count": null,
            "_view_module": "@jupyter-widgets/base",
            "_view_module_version": "1.2.0",
            "_view_name": "StyleView",
            "description_width": ""
          }
        },
        "e1b892773b8d42e9a6e164c5a4e6e5d5": {
          "model_module": "@jupyter-widgets/base",
          "model_name": "LayoutModel",
          "model_module_version": "1.2.0",
          "state": {
            "_model_module": "@jupyter-widgets/base",
            "_model_module_version": "1.2.0",
            "_model_name": "LayoutModel",
            "_view_count": null,
            "_view_module": "@jupyter-widgets/base",
            "_view_module_version": "1.2.0",
            "_view_name": "LayoutView",
            "align_content": null,
            "align_items": null,
            "align_self": null,
            "border": null,
            "bottom": null,
            "display": null,
            "flex": null,
            "flex_flow": null,
            "grid_area": null,
            "grid_auto_columns": null,
            "grid_auto_flow": null,
            "grid_auto_rows": null,
            "grid_column": null,
            "grid_gap": null,
            "grid_row": null,
            "grid_template_areas": null,
            "grid_template_columns": null,
            "grid_template_rows": null,
            "height": null,
            "justify_content": null,
            "justify_items": null,
            "left": null,
            "margin": null,
            "max_height": null,
            "max_width": null,
            "min_height": null,
            "min_width": null,
            "object_fit": null,
            "object_position": null,
            "order": null,
            "overflow": null,
            "overflow_x": null,
            "overflow_y": null,
            "padding": null,
            "right": null,
            "top": null,
            "visibility": null,
            "width": null
          }
        },
        "58b23f2107884f57b52c29984393713b": {
          "model_module": "@jupyter-widgets/controls",
          "model_name": "ProgressStyleModel",
          "model_module_version": "1.5.0",
          "state": {
            "_model_module": "@jupyter-widgets/controls",
            "_model_module_version": "1.5.0",
            "_model_name": "ProgressStyleModel",
            "_view_count": null,
            "_view_module": "@jupyter-widgets/base",
            "_view_module_version": "1.2.0",
            "_view_name": "StyleView",
            "bar_color": null,
            "description_width": ""
          }
        },
        "28f60762399b457ab7ee0f894821dbb9": {
          "model_module": "@jupyter-widgets/base",
          "model_name": "LayoutModel",
          "model_module_version": "1.2.0",
          "state": {
            "_model_module": "@jupyter-widgets/base",
            "_model_module_version": "1.2.0",
            "_model_name": "LayoutModel",
            "_view_count": null,
            "_view_module": "@jupyter-widgets/base",
            "_view_module_version": "1.2.0",
            "_view_name": "LayoutView",
            "align_content": null,
            "align_items": null,
            "align_self": null,
            "border": null,
            "bottom": null,
            "display": null,
            "flex": null,
            "flex_flow": null,
            "grid_area": null,
            "grid_auto_columns": null,
            "grid_auto_flow": null,
            "grid_auto_rows": null,
            "grid_column": null,
            "grid_gap": null,
            "grid_row": null,
            "grid_template_areas": null,
            "grid_template_columns": null,
            "grid_template_rows": null,
            "height": null,
            "justify_content": null,
            "justify_items": null,
            "left": null,
            "margin": null,
            "max_height": null,
            "max_width": null,
            "min_height": null,
            "min_width": null,
            "object_fit": null,
            "object_position": null,
            "order": null,
            "overflow": null,
            "overflow_x": null,
            "overflow_y": null,
            "padding": null,
            "right": null,
            "top": null,
            "visibility": null,
            "width": null
          }
        },
        "15d40d51a0c943daab434e04f1bb2139": {
          "model_module": "@jupyter-widgets/controls",
          "model_name": "DescriptionStyleModel",
          "model_module_version": "1.5.0",
          "state": {
            "_model_module": "@jupyter-widgets/controls",
            "_model_module_version": "1.5.0",
            "_model_name": "DescriptionStyleModel",
            "_view_count": null,
            "_view_module": "@jupyter-widgets/base",
            "_view_module_version": "1.2.0",
            "_view_name": "StyleView",
            "description_width": ""
          }
        },
        "73e23dea4f83484291f495e41dd6aaad": {
          "model_module": "@jupyter-widgets/controls",
          "model_name": "HBoxModel",
          "model_module_version": "1.5.0",
          "state": {
            "_dom_classes": [],
            "_model_module": "@jupyter-widgets/controls",
            "_model_module_version": "1.5.0",
            "_model_name": "HBoxModel",
            "_view_count": null,
            "_view_module": "@jupyter-widgets/controls",
            "_view_module_version": "1.5.0",
            "_view_name": "HBoxView",
            "box_style": "",
            "children": [
              "IPY_MODEL_cd42c1982592419ebc037582b36c6355",
              "IPY_MODEL_875b7a89f6e545f3a4e278b8c7af3389",
              "IPY_MODEL_8a8dc2f7e40a4283b3fbbe3d17d4a1b3"
            ],
            "layout": "IPY_MODEL_d2d422fc402d4f3984b8f74b05a27d58"
          }
        },
        "cd42c1982592419ebc037582b36c6355": {
          "model_module": "@jupyter-widgets/controls",
          "model_name": "HTMLModel",
          "model_module_version": "1.5.0",
          "state": {
            "_dom_classes": [],
            "_model_module": "@jupyter-widgets/controls",
            "_model_module_version": "1.5.0",
            "_model_name": "HTMLModel",
            "_view_count": null,
            "_view_module": "@jupyter-widgets/controls",
            "_view_module_version": "1.5.0",
            "_view_name": "HTMLView",
            "description": "",
            "description_tooltip": null,
            "layout": "IPY_MODEL_c7bec136db3c48d98a3a867b438165ff",
            "placeholder": "​",
            "style": "IPY_MODEL_da8aa4e936f34463a1c0c937e2e93099",
            "value": "pytorch_model.bin: 100%"
          }
        },
        "875b7a89f6e545f3a4e278b8c7af3389": {
          "model_module": "@jupyter-widgets/controls",
          "model_name": "FloatProgressModel",
          "model_module_version": "1.5.0",
          "state": {
            "_dom_classes": [],
            "_model_module": "@jupyter-widgets/controls",
            "_model_module_version": "1.5.0",
            "_model_name": "FloatProgressModel",
            "_view_count": null,
            "_view_module": "@jupyter-widgets/controls",
            "_view_module_version": "1.5.0",
            "_view_name": "ProgressView",
            "bar_style": "success",
            "description": "",
            "description_tooltip": null,
            "layout": "IPY_MODEL_a1a91faa8f644aeab44b5769c23a4bff",
            "max": 17756393,
            "min": 0,
            "orientation": "horizontal",
            "style": "IPY_MODEL_0ae948cb3ad14e7ab127406236576d29",
            "value": 17756393
          }
        },
        "8a8dc2f7e40a4283b3fbbe3d17d4a1b3": {
          "model_module": "@jupyter-widgets/controls",
          "model_name": "HTMLModel",
          "model_module_version": "1.5.0",
          "state": {
            "_dom_classes": [],
            "_model_module": "@jupyter-widgets/controls",
            "_model_module_version": "1.5.0",
            "_model_name": "HTMLModel",
            "_view_count": null,
            "_view_module": "@jupyter-widgets/controls",
            "_view_module_version": "1.5.0",
            "_view_name": "HTMLView",
            "description": "",
            "description_tooltip": null,
            "layout": "IPY_MODEL_832530c519f94a25b725fa48bbee1529",
            "placeholder": "​",
            "style": "IPY_MODEL_19227354bfdf48b38faf16e024bb5ba2",
            "value": " 17.8M/17.8M [00:00&lt;00:00, 82.2MB/s]"
          }
        },
        "d2d422fc402d4f3984b8f74b05a27d58": {
          "model_module": "@jupyter-widgets/base",
          "model_name": "LayoutModel",
          "model_module_version": "1.2.0",
          "state": {
            "_model_module": "@jupyter-widgets/base",
            "_model_module_version": "1.2.0",
            "_model_name": "LayoutModel",
            "_view_count": null,
            "_view_module": "@jupyter-widgets/base",
            "_view_module_version": "1.2.0",
            "_view_name": "LayoutView",
            "align_content": null,
            "align_items": null,
            "align_self": null,
            "border": null,
            "bottom": null,
            "display": null,
            "flex": null,
            "flex_flow": null,
            "grid_area": null,
            "grid_auto_columns": null,
            "grid_auto_flow": null,
            "grid_auto_rows": null,
            "grid_column": null,
            "grid_gap": null,
            "grid_row": null,
            "grid_template_areas": null,
            "grid_template_columns": null,
            "grid_template_rows": null,
            "height": null,
            "justify_content": null,
            "justify_items": null,
            "left": null,
            "margin": null,
            "max_height": null,
            "max_width": null,
            "min_height": null,
            "min_width": null,
            "object_fit": null,
            "object_position": null,
            "order": null,
            "overflow": null,
            "overflow_x": null,
            "overflow_y": null,
            "padding": null,
            "right": null,
            "top": null,
            "visibility": null,
            "width": null
          }
        },
        "c7bec136db3c48d98a3a867b438165ff": {
          "model_module": "@jupyter-widgets/base",
          "model_name": "LayoutModel",
          "model_module_version": "1.2.0",
          "state": {
            "_model_module": "@jupyter-widgets/base",
            "_model_module_version": "1.2.0",
            "_model_name": "LayoutModel",
            "_view_count": null,
            "_view_module": "@jupyter-widgets/base",
            "_view_module_version": "1.2.0",
            "_view_name": "LayoutView",
            "align_content": null,
            "align_items": null,
            "align_self": null,
            "border": null,
            "bottom": null,
            "display": null,
            "flex": null,
            "flex_flow": null,
            "grid_area": null,
            "grid_auto_columns": null,
            "grid_auto_flow": null,
            "grid_auto_rows": null,
            "grid_column": null,
            "grid_gap": null,
            "grid_row": null,
            "grid_template_areas": null,
            "grid_template_columns": null,
            "grid_template_rows": null,
            "height": null,
            "justify_content": null,
            "justify_items": null,
            "left": null,
            "margin": null,
            "max_height": null,
            "max_width": null,
            "min_height": null,
            "min_width": null,
            "object_fit": null,
            "object_position": null,
            "order": null,
            "overflow": null,
            "overflow_x": null,
            "overflow_y": null,
            "padding": null,
            "right": null,
            "top": null,
            "visibility": null,
            "width": null
          }
        },
        "da8aa4e936f34463a1c0c937e2e93099": {
          "model_module": "@jupyter-widgets/controls",
          "model_name": "DescriptionStyleModel",
          "model_module_version": "1.5.0",
          "state": {
            "_model_module": "@jupyter-widgets/controls",
            "_model_module_version": "1.5.0",
            "_model_name": "DescriptionStyleModel",
            "_view_count": null,
            "_view_module": "@jupyter-widgets/base",
            "_view_module_version": "1.2.0",
            "_view_name": "StyleView",
            "description_width": ""
          }
        },
        "a1a91faa8f644aeab44b5769c23a4bff": {
          "model_module": "@jupyter-widgets/base",
          "model_name": "LayoutModel",
          "model_module_version": "1.2.0",
          "state": {
            "_model_module": "@jupyter-widgets/base",
            "_model_module_version": "1.2.0",
            "_model_name": "LayoutModel",
            "_view_count": null,
            "_view_module": "@jupyter-widgets/base",
            "_view_module_version": "1.2.0",
            "_view_name": "LayoutView",
            "align_content": null,
            "align_items": null,
            "align_self": null,
            "border": null,
            "bottom": null,
            "display": null,
            "flex": null,
            "flex_flow": null,
            "grid_area": null,
            "grid_auto_columns": null,
            "grid_auto_flow": null,
            "grid_auto_rows": null,
            "grid_column": null,
            "grid_gap": null,
            "grid_row": null,
            "grid_template_areas": null,
            "grid_template_columns": null,
            "grid_template_rows": null,
            "height": null,
            "justify_content": null,
            "justify_items": null,
            "left": null,
            "margin": null,
            "max_height": null,
            "max_width": null,
            "min_height": null,
            "min_width": null,
            "object_fit": null,
            "object_position": null,
            "order": null,
            "overflow": null,
            "overflow_x": null,
            "overflow_y": null,
            "padding": null,
            "right": null,
            "top": null,
            "visibility": null,
            "width": null
          }
        },
        "0ae948cb3ad14e7ab127406236576d29": {
          "model_module": "@jupyter-widgets/controls",
          "model_name": "ProgressStyleModel",
          "model_module_version": "1.5.0",
          "state": {
            "_model_module": "@jupyter-widgets/controls",
            "_model_module_version": "1.5.0",
            "_model_name": "ProgressStyleModel",
            "_view_count": null,
            "_view_module": "@jupyter-widgets/base",
            "_view_module_version": "1.2.0",
            "_view_name": "StyleView",
            "bar_color": null,
            "description_width": ""
          }
        },
        "832530c519f94a25b725fa48bbee1529": {
          "model_module": "@jupyter-widgets/base",
          "model_name": "LayoutModel",
          "model_module_version": "1.2.0",
          "state": {
            "_model_module": "@jupyter-widgets/base",
            "_model_module_version": "1.2.0",
            "_model_name": "LayoutModel",
            "_view_count": null,
            "_view_module": "@jupyter-widgets/base",
            "_view_module_version": "1.2.0",
            "_view_name": "LayoutView",
            "align_content": null,
            "align_items": null,
            "align_self": null,
            "border": null,
            "bottom": null,
            "display": null,
            "flex": null,
            "flex_flow": null,
            "grid_area": null,
            "grid_auto_columns": null,
            "grid_auto_flow": null,
            "grid_auto_rows": null,
            "grid_column": null,
            "grid_gap": null,
            "grid_row": null,
            "grid_template_areas": null,
            "grid_template_columns": null,
            "grid_template_rows": null,
            "height": null,
            "justify_content": null,
            "justify_items": null,
            "left": null,
            "margin": null,
            "max_height": null,
            "max_width": null,
            "min_height": null,
            "min_width": null,
            "object_fit": null,
            "object_position": null,
            "order": null,
            "overflow": null,
            "overflow_x": null,
            "overflow_y": null,
            "padding": null,
            "right": null,
            "top": null,
            "visibility": null,
            "width": null
          }
        },
        "19227354bfdf48b38faf16e024bb5ba2": {
          "model_module": "@jupyter-widgets/controls",
          "model_name": "DescriptionStyleModel",
          "model_module_version": "1.5.0",
          "state": {
            "_model_module": "@jupyter-widgets/controls",
            "_model_module_version": "1.5.0",
            "_model_name": "DescriptionStyleModel",
            "_view_count": null,
            "_view_module": "@jupyter-widgets/base",
            "_view_module_version": "1.2.0",
            "_view_name": "StyleView",
            "description_width": ""
          }
        }
      }
    }
  },
  "cells": [
    {
      "cell_type": "code",
      "source": [
        "!pip install torchinfo"
      ],
      "metadata": {
        "colab": {
          "base_uri": "https://localhost:8080/"
        },
        "id": "lzUaFDoDkIzh",
        "outputId": "d366c399-c8a8-4fae-9e33-70e0fe775936"
      },
      "execution_count": 4,
      "outputs": [
        {
          "output_type": "stream",
          "name": "stdout",
          "text": [
            "Collecting torchinfo\n",
            "  Downloading torchinfo-1.8.0-py3-none-any.whl.metadata (21 kB)\n",
            "Downloading torchinfo-1.8.0-py3-none-any.whl (23 kB)\n",
            "Installing collected packages: torchinfo\n",
            "Successfully installed torchinfo-1.8.0\n"
          ]
        }
      ]
    },
    {
      "cell_type": "code",
      "execution_count": 5,
      "metadata": {
        "id": "QcHBtBKicB-H"
      },
      "outputs": [],
      "source": [
        "import os\n",
        "import torch\n",
        "from torch import nn\n",
        "from tqdm import tqdm\n",
        "from torch.utils.data import DataLoader, Dataset\n",
        "from transformers import BertTokenizer, BertModel, get_linear_schedule_with_warmup\n",
        "from sklearn.model_selection import train_test_split\n",
        "from sklearn.preprocessing import LabelEncoder\n",
        "import sklearn\n",
        "from sklearn.metrics import accuracy_score, f1_score\n",
        "import pandas as pd\n",
        "from torch.optim import AdamW\n",
        "from torchinfo import summary\n",
        "import numpy as np"
      ]
    },
    {
      "cell_type": "code",
      "source": [
        "def load_news_data(data_file):\n",
        "\n",
        "    df = pd.read_json(data_file, lines=True)\n",
        "    df.head()\n",
        "\n",
        "    df['category'] = df['category'].map(lambda x: \"WORLDPOST\" if x == \"THE WORLDPOST\" else x)\n",
        "\n",
        "    df['headline'] = df['headline'].apply(lambda x: str(x).lower())\n",
        "    df['short_description'] = df['short_description'].apply(lambda x: str(x).lower())\n",
        "\n",
        "    df['text'] = df['headline'] + \" \" + df['short_description']\n",
        "    encoder = LabelEncoder()\n",
        "    df['label'] = encoder.fit_transform(df['category'])\n",
        "    print(f\"The dataset contains {df['category'].nunique()} unique categories.\")\n",
        "\n",
        "    return df['text'].tolist(), df['label'].tolist(), encoder.classes_.tolist()"
      ],
      "metadata": {
        "id": "rdAUEwDJcDP2"
      },
      "execution_count": 6,
      "outputs": []
    },
    {
      "cell_type": "code",
      "source": [
        "from google.colab import drive\n",
        "drive.mount('/content/drive')"
      ],
      "metadata": {
        "colab": {
          "base_uri": "https://localhost:8080/"
        },
        "id": "944EgMsfg8BD",
        "outputId": "ff947a7f-7436-449f-c728-b1c34cebe0be"
      },
      "execution_count": 7,
      "outputs": [
        {
          "output_type": "stream",
          "name": "stdout",
          "text": [
            "Mounted at /content/drive\n"
          ]
        }
      ]
    },
    {
      "cell_type": "code",
      "source": [
        "data_file = \"/content/drive/MyDrive/News_Category_Dataset_v2.json\"\n",
        "texts, labels, label_names = load_news_data(data_file)"
      ],
      "metadata": {
        "colab": {
          "base_uri": "https://localhost:8080/"
        },
        "id": "q1iQ3D7wcUcn",
        "outputId": "dd61ef81-3e16-43b8-c73d-2609d692f4da"
      },
      "execution_count": 8,
      "outputs": [
        {
          "output_type": "stream",
          "name": "stdout",
          "text": [
            "The dataset contains 40 unique categories.\n"
          ]
        }
      ]
    },
    {
      "cell_type": "code",
      "source": [
        "\n",
        "for idx, name in enumerate(label_names):\n",
        "    print(f\"{idx} → {name}\")"
      ],
      "metadata": {
        "colab": {
          "base_uri": "https://localhost:8080/"
        },
        "id": "x28ciF82oHjB",
        "outputId": "dc8f0dac-822c-46df-b8c0-bac409618287"
      },
      "execution_count": 9,
      "outputs": [
        {
          "output_type": "stream",
          "name": "stdout",
          "text": [
            "0 → ARTS\n",
            "1 → ARTS & CULTURE\n",
            "2 → BLACK VOICES\n",
            "3 → BUSINESS\n",
            "4 → COLLEGE\n",
            "5 → COMEDY\n",
            "6 → CRIME\n",
            "7 → CULTURE & ARTS\n",
            "8 → DIVORCE\n",
            "9 → EDUCATION\n",
            "10 → ENTERTAINMENT\n",
            "11 → ENVIRONMENT\n",
            "12 → FIFTY\n",
            "13 → FOOD & DRINK\n",
            "14 → GOOD NEWS\n",
            "15 → GREEN\n",
            "16 → HEALTHY LIVING\n",
            "17 → HOME & LIVING\n",
            "18 → IMPACT\n",
            "19 → LATINO VOICES\n",
            "20 → MEDIA\n",
            "21 → MONEY\n",
            "22 → PARENTING\n",
            "23 → PARENTS\n",
            "24 → POLITICS\n",
            "25 → QUEER VOICES\n",
            "26 → RELIGION\n",
            "27 → SCIENCE\n",
            "28 → SPORTS\n",
            "29 → STYLE\n",
            "30 → STYLE & BEAUTY\n",
            "31 → TASTE\n",
            "32 → TECH\n",
            "33 → TRAVEL\n",
            "34 → WEDDINGS\n",
            "35 → WEIRD NEWS\n",
            "36 → WELLNESS\n",
            "37 → WOMEN\n",
            "38 → WORLD NEWS\n",
            "39 → WORLDPOST\n"
          ]
        }
      ]
    },
    {
      "cell_type": "code",
      "source": [
        "# Set up parameters\n",
        "bert_model_name = 'prajjwal1/bert-tiny'\n",
        "num_classes = len(label_names)\n",
        "max_length = 256\n",
        "batch_size = 32\n",
        "num_epochs = 1\n",
        "learning_rate = 2e-5"
      ],
      "metadata": {
        "id": "S7sIYVYmc4MM"
      },
      "execution_count": 27,
      "outputs": []
    },
    {
      "cell_type": "code",
      "source": [
        "class TextClassificationDataset(Dataset):\n",
        "    def __init__(self, texts, labels, tokenizer, max_length):\n",
        "        self.texts = texts\n",
        "        self.labels = labels\n",
        "        self.tokenizer = tokenizer\n",
        "        self.max_length = max_length\n",
        "    def __len__(self):\n",
        "        return len(self.texts)\n",
        "    def __getitem__(self, idx):\n",
        "        text = self.texts[idx]\n",
        "        label = self.labels[idx]\n",
        "        encoding = self.tokenizer(text, return_tensors='pt', max_length=self.max_length, padding='max_length', truncation=True)\n",
        "        return {'input_ids': encoding['input_ids'].flatten(), 'attention_mask': encoding['attention_mask'].flatten(), 'label': torch.tensor(label)}"
      ],
      "metadata": {
        "id": "o6OaJGUzcd_o"
      },
      "execution_count": 28,
      "outputs": []
    },
    {
      "cell_type": "code",
      "source": [
        "class BERTClassifier(nn.Module):\n",
        "    def __init__(self, bert_model_name, num_classes):\n",
        "        super(BERTClassifier, self).__init__()\n",
        "        self.bert = BertModel.from_pretrained(bert_model_name)\n",
        "        self.dropout = nn.Dropout(0.1)\n",
        "        self.fc = nn.Linear(self.bert.config.hidden_size, num_classes)\n",
        "\n",
        "    def forward(self, input_ids, attention_mask):\n",
        "        outputs = self.bert(input_ids=input_ids, attention_mask=attention_mask)\n",
        "        pooled_output = outputs.pooler_output\n",
        "        x = self.dropout(pooled_output)\n",
        "        logits = self.fc(x)\n",
        "        return logits"
      ],
      "metadata": {
        "id": "mH--1xTNes_5"
      },
      "execution_count": 29,
      "outputs": []
    },
    {
      "cell_type": "code",
      "source": [
        "def train(model, data_loader, optimizer, scheduler, device):\n",
        "    model.train()\n",
        "    total_loss = 0.0\n",
        "\n",
        "    progress_bar = tqdm(data_loader, desc=\"Training\", leave=True)\n",
        "\n",
        "    for batch in progress_bar:\n",
        "        optimizer.zero_grad()\n",
        "\n",
        "        input_ids = batch['input_ids'].to(device)\n",
        "        attention_mask = batch['attention_mask'].to(device)\n",
        "        labels = batch['label'].to(device)\n",
        "\n",
        "        outputs = model(input_ids=input_ids, attention_mask=attention_mask)\n",
        "        loss = nn.CrossEntropyLoss()(outputs, labels)\n",
        "        loss.backward()\n",
        "\n",
        "        optimizer.step()\n",
        "        scheduler.step()\n",
        "\n",
        "        total_loss += loss.item()\n",
        "        progress_bar.set_postfix(loss=loss.item())\n",
        "\n",
        "    avg_loss = total_loss / len(data_loader)\n",
        "    print(f\"\\nEpoch completed. Average training loss: {avg_loss:.4f}\")"
      ],
      "metadata": {
        "id": "mkEMls1eeuyn"
      },
      "execution_count": 30,
      "outputs": []
    },
    {
      "cell_type": "code",
      "source": [
        "# Without mixed precision\n",
        "from torch.profiler import profile, record_function, ProfilerActivity\n",
        "\n",
        "def train_original(model, dataloader, optimizer, scheduler, device, epoch=None):\n",
        "    model.train()\n",
        "    total_loss = 0\n",
        "\n",
        "    with profile(\n",
        "        activities=[ProfilerActivity.CPU, ProfilerActivity.CUDA] if device.type == \"cuda\" else [ProfilerActivity.CPU],\n",
        "        schedule=torch.profiler.schedule(wait=1, warmup=1, active=2, repeat=1),\n",
        "        on_trace_ready=torch.profiler.tensorboard_trace_handler(f\"./log_train_profiler\"),\n",
        "        record_shapes=True,\n",
        "        profile_memory=True,\n",
        "        with_stack=True\n",
        "    ) as profiler:\n",
        "\n",
        "        for step, batch in enumerate(tqdm(dataloader, desc=f\"Training Epoch {epoch if epoch is not None else ''}\")):\n",
        "            input_ids = batch['input_ids'].to(device)\n",
        "            attention_mask = batch['attention_mask'].to(device)\n",
        "            labels = batch['label'].to(device)\n",
        "\n",
        "            optimizer.zero_grad()\n",
        "\n",
        "            with record_function(\"forward_pass\"):\n",
        "                outputs = model(input_ids=input_ids, attention_mask=attention_mask)\n",
        "                # logits = outputs.logits\n",
        "                loss = nn.CrossEntropyLoss()(outputs, labels)\n",
        "\n",
        "            with record_function(\"backward_pass\"):\n",
        "                loss.backward()\n",
        "                optimizer.step()\n",
        "\n",
        "            scheduler.step()\n",
        "            profiler.step()  # ✅ 每个 step 结束标记\n",
        "\n",
        "            total_loss += loss.item()\n",
        "            # wandb.log({\"train/loss_batch\": loss.item()})\n",
        "\n",
        "    print(profiler.key_averages().table(sort_by=\"cuda_time_total\", row_limit=20))\n",
        "    print(profiler.key_averages().table(sort_by=\"self_cuda_memory_usage\", row_limit=20))\n",
        "    print(profiler.key_averages().table(sort_by=\"cpu_time_total\", row_limit=20))\n",
        "\n",
        "    avg_loss = total_loss / len(dataloader)\n",
        "    print(f\"Average training loss: {avg_loss:.4f}\")\n",
        "    # wandb.log({\"train/loss_epoch\": avg_loss})"
      ],
      "metadata": {
        "id": "54dSN89l1hDu"
      },
      "execution_count": 31,
      "outputs": []
    },
    {
      "cell_type": "code",
      "source": [
        "def evaluate(model, data_loader, device):\n",
        "    model.eval()\n",
        "    predictions = []\n",
        "    actual_labels = []\n",
        "    with torch.no_grad():\n",
        "        for batch in data_loader:\n",
        "            input_ids = batch['input_ids'].to(device)\n",
        "            attention_mask = batch['attention_mask'].to(device)\n",
        "            labels = batch['label'].to(device)\n",
        "\n",
        "            outputs = model(input_ids=input_ids, attention_mask=attention_mask)\n",
        "            _, preds = torch.max(outputs, dim=1)\n",
        "\n",
        "            predictions.extend(preds.cpu().tolist())\n",
        "            actual_labels.extend(labels.cpu().tolist())\n",
        "    acc = accuracy_score(actual_labels, predictions)\n",
        "    macro_f1 = f1_score(actual_labels, predictions, average='macro')\n",
        "    weighted_f1 = f1_score(actual_labels, predictions, average='weighted')\n",
        "\n",
        "    return acc, macro_f1, weighted_f1"
      ],
      "metadata": {
        "id": "FHsoludJewrr"
      },
      "execution_count": 32,
      "outputs": []
    },
    {
      "cell_type": "code",
      "source": [
        "def predict_news_category(text, model, tokenizer, device, encoder, max_length=128):\n",
        "    model.eval()\n",
        "    encoding = tokenizer(text, return_tensors='pt', max_length=max_length,\n",
        "                         padding='max_length', truncation=True)\n",
        "\n",
        "    input_ids = encoding['input_ids'].to(device)\n",
        "    attention_mask = encoding['attention_mask'].to(device)\n",
        "\n",
        "    with torch.no_grad():\n",
        "        outputs = model(input_ids=input_ids, attention_mask=attention_mask)\n",
        "        _, predicted_label = torch.max(outputs, dim=1)\n",
        "\n",
        "    predicted_category = encoder.inverse_transform(predicted_label.cpu().numpy())[0]\n",
        "    return predicted_category"
      ],
      "metadata": {
        "id": "MNtYDSl1lwrC"
      },
      "execution_count": 33,
      "outputs": []
    },
    {
      "cell_type": "code",
      "source": [
        "from torch.profiler import profile, record_function, ProfilerActivity, schedule, tensorboard_trace_handler\n",
        "import time\n",
        "def predict_news_category(text, model, tokenizer, device, encoder, max_length=128):\n",
        "    model.eval()\n",
        "\n",
        "    inputs = tokenizer(\n",
        "        text,\n",
        "        return_tensors=\"pt\",\n",
        "        truncation=True,\n",
        "        padding=\"max_length\",\n",
        "        max_length=max_length\n",
        "    )\n",
        "    input_ids = inputs[\"input_ids\"].to(device)\n",
        "    attention_mask = inputs[\"attention_mask\"].to(device)\n",
        "\n",
        "    with profile(\n",
        "        activities=[ProfilerActivity.CPU, ProfilerActivity.CUDA] if device.type == \"cuda\" else [ProfilerActivity.CPU],\n",
        "        schedule=schedule(wait=1, warmup=1, active=5, repeat=1),  # 跳过第 1 次，记录后 5 次\n",
        "        record_shapes=True,\n",
        "        profile_memory=True,\n",
        "        with_stack=True,\n",
        "        on_trace_ready=tensorboard_trace_handler(\"./log_predict_base_warmup\")\n",
        "    ) as profiler:\n",
        "        for i in range(7):  # 总共运行 7 次\n",
        "            with torch.no_grad():\n",
        "                with record_function(f\"model_inference_{i}\"):\n",
        "                    outputs = model(input_ids=input_ids, attention_mask=attention_mask)\n",
        "                    _, predicted_label = torch.max(outputs, dim=1)\n",
        "            profiler.step()\n",
        "\n",
        "    print(profiler.key_averages().table(sort_by=\"cuda_time_total\", row_limit=20))\n",
        "    print(profiler.key_averages().table(sort_by=\"self_cuda_memory_usage\", row_limit=20))\n",
        "    print(profiler.key_averages().table(sort_by=\"cpu_time_total\", row_limit=20))\n",
        "\n",
        "    predicted_category = encoder.inverse_transform(predicted_label.cpu().numpy())[0]\n",
        "    print(f\"✅ Warmup profiling done. Use TensorBoard:\\n\\n  %tensorboard --logdir=./log_predict_base_warmup\")\n",
        "    return predicted_category"
      ],
      "metadata": {
        "id": "aj7IqlhvPgaA"
      },
      "execution_count": 42,
      "outputs": []
    },
    {
      "cell_type": "code",
      "source": [
        "train_texts, val_texts, train_labels, val_labels = train_test_split(texts, labels, test_size=0.2, random_state=42)"
      ],
      "metadata": {
        "id": "a6sO8uI0dAl-"
      },
      "execution_count": 34,
      "outputs": []
    },
    {
      "cell_type": "code",
      "source": [
        "tokenizer = BertTokenizer.from_pretrained(bert_model_name)\n",
        "train_dataset = TextClassificationDataset(train_texts, train_labels, tokenizer, max_length)\n",
        "val_dataset = TextClassificationDataset(val_texts, val_labels, tokenizer, max_length)\n",
        "train_dataloader = DataLoader(train_dataset, batch_size=batch_size, shuffle=True)\n",
        "val_dataloader = DataLoader(val_dataset, batch_size=batch_size)"
      ],
      "metadata": {
        "id": "i6LTdTTrdC_f",
        "colab": {
          "base_uri": "https://localhost:8080/",
          "height": 81,
          "referenced_widgets": [
            "d1df0144bb0f49dbad3590bae25d4105",
            "d393b37a566947d58dd207261a497020",
            "e2e3b06035d44a53ab85a6c02be4575b",
            "7854f82a7f15495cbc60c6b40d989b92",
            "65e4e36a12fd49e59f378ffa8508b55e",
            "61781d6b7d4343949b90e211fcf25ed4",
            "27eb9d4a14c74f0399159c55ffabecec",
            "b0a8b592ab2b410aa9bdf8778d936b30",
            "edd31c5cb4234cad9a8bb65a1ac8c812",
            "c25e625cbc464b169468f1dc9e625953",
            "ff5ae9a9175e43338d3b93b2eb4bf852",
            "d7ca7d0daa8c40b0a4ed58322c86d558",
            "e1270217533d473a8269282e94d87c98",
            "ca8e141d0acb4ba0938c916499845c6d",
            "eafbb344eb1f4bd991bd0510807957e5",
            "86e9730debb147b6822f1dec2831207a",
            "2f9b4d23f16b4fb5b96ab966241472b8",
            "1fd37b0859aa4aa29f4b0ec18a22cd25",
            "e1b892773b8d42e9a6e164c5a4e6e5d5",
            "58b23f2107884f57b52c29984393713b",
            "28f60762399b457ab7ee0f894821dbb9",
            "15d40d51a0c943daab434e04f1bb2139"
          ]
        },
        "outputId": "3e961431-bda6-4b3f-d378-f055ae54c8ed"
      },
      "execution_count": 35,
      "outputs": [
        {
          "output_type": "display_data",
          "data": {
            "text/plain": [
              "vocab.txt:   0%|          | 0.00/232k [00:00<?, ?B/s]"
            ],
            "application/vnd.jupyter.widget-view+json": {
              "version_major": 2,
              "version_minor": 0,
              "model_id": "d1df0144bb0f49dbad3590bae25d4105"
            }
          },
          "metadata": {}
        },
        {
          "output_type": "display_data",
          "data": {
            "text/plain": [
              "config.json:   0%|          | 0.00/285 [00:00<?, ?B/s]"
            ],
            "application/vnd.jupyter.widget-view+json": {
              "version_major": 2,
              "version_minor": 0,
              "model_id": "d7ca7d0daa8c40b0a4ed58322c86d558"
            }
          },
          "metadata": {}
        }
      ]
    },
    {
      "cell_type": "code",
      "source": [
        "device = torch.device(\"cuda\" if torch.cuda.is_available() else \"cpu\")\n",
        "model = BERTClassifier(bert_model_name, num_classes).to(device)\n",
        "print(f\"Using device: {device}\")"
      ],
      "metadata": {
        "colab": {
          "base_uri": "https://localhost:8080/",
          "height": 67,
          "referenced_widgets": [
            "73e23dea4f83484291f495e41dd6aaad",
            "cd42c1982592419ebc037582b36c6355",
            "875b7a89f6e545f3a4e278b8c7af3389",
            "8a8dc2f7e40a4283b3fbbe3d17d4a1b3",
            "d2d422fc402d4f3984b8f74b05a27d58",
            "c7bec136db3c48d98a3a867b438165ff",
            "da8aa4e936f34463a1c0c937e2e93099",
            "a1a91faa8f644aeab44b5769c23a4bff",
            "0ae948cb3ad14e7ab127406236576d29",
            "832530c519f94a25b725fa48bbee1529",
            "19227354bfdf48b38faf16e024bb5ba2"
          ]
        },
        "id": "G_8qO4lidH1c",
        "outputId": "860a36f7-09d9-4db1-9ca6-35b62a724576"
      },
      "execution_count": 36,
      "outputs": [
        {
          "output_type": "display_data",
          "data": {
            "text/plain": [
              "pytorch_model.bin:   0%|          | 0.00/17.8M [00:00<?, ?B/s]"
            ],
            "application/vnd.jupyter.widget-view+json": {
              "version_major": 2,
              "version_minor": 0,
              "model_id": "73e23dea4f83484291f495e41dd6aaad"
            }
          },
          "metadata": {}
        },
        {
          "output_type": "stream",
          "name": "stdout",
          "text": [
            "Using device: cuda\n"
          ]
        }
      ]
    },
    {
      "cell_type": "code",
      "source": [
        "optimizer = AdamW(model.parameters(), lr=learning_rate)\n",
        "total_steps = len(train_dataloader) * num_epochs\n",
        "scheduler = get_linear_schedule_with_warmup(optimizer, num_warmup_steps=0, num_training_steps=total_steps)"
      ],
      "metadata": {
        "id": "OH0DIqmVdMYT"
      },
      "execution_count": 37,
      "outputs": []
    },
    {
      "cell_type": "code",
      "source": [
        "seq_len = 128\n",
        "device = torch.device(\"cuda\" if torch.cuda.is_available() else \"cpu\")\n",
        "\n",
        "input_data = {\n",
        "    \"input_ids\": torch.zeros((batch_size, seq_len), dtype=torch.long).to(device),\n",
        "    \"attention_mask\": torch.ones((batch_size, seq_len), dtype=torch.long).to(device)\n",
        "}\n",
        "\n",
        "summary(model, input_data=input_data)"
      ],
      "metadata": {
        "colab": {
          "base_uri": "https://localhost:8080/"
        },
        "id": "2XBe_-eCklCr",
        "outputId": "69da0cfc-8e03-42ab-e100-1a016a09768a"
      },
      "execution_count": 38,
      "outputs": [
        {
          "output_type": "execute_result",
          "data": {
            "text/plain": [
              "==============================================================================================================\n",
              "Layer (type:depth-idx)                                       Output Shape              Param #\n",
              "==============================================================================================================\n",
              "BERTClassifier                                               [32, 40]                  --\n",
              "├─BertModel: 1-1                                             [32, 128]                 --\n",
              "│    └─BertEmbeddings: 2-1                                   [32, 128, 128]            --\n",
              "│    │    └─Embedding: 3-1                                   [32, 128, 128]            3,906,816\n",
              "│    │    └─Embedding: 3-2                                   [32, 128, 128]            256\n",
              "│    │    └─Embedding: 3-3                                   [1, 128, 128]             65,536\n",
              "│    │    └─LayerNorm: 3-4                                   [32, 128, 128]            256\n",
              "│    │    └─Dropout: 3-5                                     [32, 128, 128]            --\n",
              "│    └─BertEncoder: 2-2                                      [32, 128, 128]            --\n",
              "│    │    └─ModuleList: 3-6                                  --                        396,544\n",
              "│    └─BertPooler: 2-3                                       [32, 128]                 --\n",
              "│    │    └─Linear: 3-7                                      [32, 128]                 16,512\n",
              "│    │    └─Tanh: 3-8                                        [32, 128]                 --\n",
              "├─Dropout: 1-2                                               [32, 128]                 --\n",
              "├─Linear: 1-3                                                [32, 40]                  5,160\n",
              "==============================================================================================================\n",
              "Total params: 4,391,080\n",
              "Trainable params: 4,391,080\n",
              "Non-trainable params: 0\n",
              "Total mult-adds (Units.MEGABYTES): 138.48\n",
              "==============================================================================================================\n",
              "Input size (MB): 0.07\n",
              "Forward/backward pass size (MB): 105.03\n",
              "Params size (MB): 17.56\n",
              "Estimated Total Size (MB): 122.66\n",
              "=============================================================================================================="
            ]
          },
          "metadata": {},
          "execution_count": 38
        }
      ]
    },
    {
      "cell_type": "code",
      "source": [
        "for epoch in range(num_epochs):\n",
        "        print(f\"Epoch {epoch + 1}/{num_epochs}\")\n",
        "        train_original(model, train_dataloader, optimizer, scheduler, device)\n",
        "        accuracy, macro_f1, weighted_f1 = evaluate(model, val_dataloader, device)\n",
        "        print(f\"Validation Accuracy: {accuracy:.4f}\")\n",
        "        print(f\"Macro F1: {macro_f1:.4f}\")\n",
        "        print(f\"Weighted F1: {weighted_f1:.4f}\")"
      ],
      "metadata": {
        "colab": {
          "base_uri": "https://localhost:8080/"
        },
        "id": "6BLgBUfmdd5y",
        "outputId": "464b126b-9215-428a-f00e-d8729e2c2f13"
      },
      "execution_count": 39,
      "outputs": [
        {
          "output_type": "stream",
          "name": "stdout",
          "text": [
            "Epoch 1/1\n"
          ]
        },
        {
          "output_type": "stream",
          "name": "stderr",
          "text": [
            "Training Epoch : 100%|██████████| 5022/5022 [03:11<00:00, 26.19it/s]\n"
          ]
        },
        {
          "output_type": "stream",
          "name": "stdout",
          "text": [
            "-------------------------------------------------------  ------------  ------------  ------------  ------------  ------------  ------------  ------------  ------------  ------------  ------------  ------------  ------------  ------------  ------------  \n",
            "                                                   Name    Self CPU %      Self CPU   CPU total %     CPU total  CPU time avg     Self CUDA   Self CUDA %    CUDA total  CUDA time avg       CPU Mem  Self CPU Mem      CUDA Mem  Self CUDA Mem    # of Calls  \n",
            "-------------------------------------------------------  ------------  ------------  ------------  ------------  ------------  ------------  ------------  ------------  ------------  ------------  ------------  ------------  ------------  ------------  \n",
            "                                          ProfilerStep*         0.00%       0.000us         0.00%       0.000us       0.000us     143.332ms      1331.37%     143.332ms      71.666ms           0 b           0 b           0 b           0 b             2  \n",
            "                                           forward_pass         0.00%       0.000us         0.00%       0.000us       0.000us      11.861ms       110.18%      11.861ms       5.931ms           0 b           0 b           0 b           0 b             2  \n",
            "                                          ProfilerStep*         1.05%       2.023ms        92.87%     179.564ms      89.782ms       0.000us         0.00%       4.126ms       2.063ms     128.25 Kb    -128.25 Kb           0 b    -257.00 Kb             2  \n",
            "                                           forward_pass         2.72%       5.263ms         6.68%      12.913ms       6.456ms       0.000us         0.00%       3.340ms       1.670ms          64 b           0 b     298.96 Mb    -124.31 Mb             2  \n",
            "    autograd::engine::evaluate_function: AddmmBackward0         0.32%     622.635us         2.66%       5.135ms     183.382us       0.000us         0.00%       3.313ms     118.335us           0 b           0 b    -100.83 Mb    -248.07 Mb            28  \n",
            "                              Optimizer.step#AdamW.step         0.00%       0.000us         0.00%       0.000us       0.000us       3.127ms        29.05%       3.127ms       1.564ms           0 b           0 b           0 b           0 b             2  \n",
            "                                         AddmmBackward0         0.21%     401.407us         1.69%       3.262ms     116.510us       0.000us         0.00%       2.697ms      96.320us           0 b           0 b     147.23 Mb           0 b            28  \n",
            "                                               aten::mm         0.74%       1.424ms         1.14%       2.206ms      39.395us       2.697ms        25.05%       2.697ms      48.160us           0 b           0 b     147.23 Mb     147.23 Mb            56  \n",
            "                                           aten::linear         0.16%     310.309us         1.55%       3.002ms     107.200us       0.000us         0.00%       1.970ms      70.368us           0 b           0 b     144.04 Mb           0 b            28  \n",
            "                                            aten::addmm         0.74%       1.436ms         1.08%       2.082ms      74.348us       1.970ms        18.30%       1.970ms      70.368us           0 b           0 b     144.04 Mb     116.04 Mb            28  \n",
            "                                 ampere_sgemm_32x128_tn         0.00%       0.000us         0.00%       0.000us       0.000us       1.480ms        13.75%       1.480ms      73.997us           0 b           0 b           0 b           0 b            20  \n",
            "autograd::engine::evaluate_function: ScaledDotProduc...         0.05%     104.673us         0.63%       1.213ms     303.324us       0.000us         0.00%       1.284ms     321.113us         -64 b         -64 b     -48.25 Mb     -96.25 Mb             4  \n",
            "            ScaledDotProductEfficientAttentionBackward0         0.02%      43.068us         0.57%       1.109ms     277.156us       0.000us         0.00%       1.284ms     321.113us           0 b           0 b      48.00 Mb           0 b             4  \n",
            "aten::_scaled_dot_product_efficient_attention_backwa...         0.06%     116.917us         0.55%       1.066ms     266.388us       0.000us         0.00%       1.284ms     321.113us           0 b           0 b      48.00 Mb           0 b             4  \n",
            "                    aten::_efficient_attention_backward         0.10%     187.465us         0.43%     840.532us     210.133us       1.170ms        10.86%       1.284ms     321.113us           0 b           0 b      48.00 Mb     -32.52 Mb             4  \n",
            "fmha_cutlassB_f32_aligned_64x64_k64_dropout_sm80(PyT...         0.00%       0.000us         0.00%       0.000us       0.000us       1.170ms        10.86%       1.170ms     292.376us           0 b           0 b           0 b           0 b             4  \n",
            "autograd::engine::evaluate_function: EmbeddingBackwa...         0.04%      73.573us         0.99%       1.913ms     318.877us       0.000us         0.00%     970.433us     161.739us           0 b           0 b      22.06 Mb      -8.25 Mb             6  \n",
            "                                     EmbeddingBackward0         0.01%      26.401us         0.95%       1.840ms     306.614us       0.000us         0.00%     970.433us     161.739us           0 b           0 b      30.31 Mb           0 b             6  \n",
            "                               aten::embedding_backward         0.01%      16.616us         0.94%       1.813ms     302.214us       0.000us         0.00%     970.433us     161.739us           0 b           0 b      30.31 Mb           0 b             6  \n",
            "                         aten::embedding_dense_backward         0.26%     504.725us         0.93%       1.797ms     299.445us     919.617us         8.54%     970.433us     161.739us           0 b           0 b      30.31 Mb     -11.13 Mb             6  \n",
            "-------------------------------------------------------  ------------  ------------  ------------  ------------  ------------  ------------  ------------  ------------  ------------  ------------  ------------  ------------  ------------  ------------  \n",
            "Self CPU time total: 193.341ms\n",
            "Self CUDA time total: 10.766ms\n",
            "\n",
            "-------------------------------------------------------  ------------  ------------  ------------  ------------  ------------  ------------  ------------  ------------  ------------  ------------  ------------  ------------  ------------  ------------  \n",
            "                                                   Name    Self CPU %      Self CPU   CPU total %     CPU total  CPU time avg     Self CUDA   Self CUDA %    CUDA total  CUDA time avg       CPU Mem  Self CPU Mem      CUDA Mem  Self CUDA Mem    # of Calls  \n",
            "-------------------------------------------------------  ------------  ------------  ------------  ------------  ------------  ------------  ------------  ------------  ------------  ------------  ------------  ------------  ------------  ------------  \n",
            "                                            aten::empty         1.08%       2.093ms         1.08%       2.093ms       4.671us       0.000us         0.00%       0.000us       0.000us     384.51 Kb     384.51 Kb     302.50 Mb     302.50 Mb           448  \n",
            "                                               aten::mm         0.74%       1.424ms         1.14%       2.206ms      39.395us       2.697ms        25.05%       2.697ms      48.160us           0 b           0 b     147.23 Mb     147.23 Mb            56  \n",
            "                                            aten::addmm         0.74%       1.436ms         1.08%       2.082ms      74.348us       1.970ms        18.30%       1.970ms      70.368us           0 b           0 b     144.04 Mb     116.04 Mb            28  \n",
            "                                    aten::empty_strided         0.41%     798.363us         0.41%     798.363us       6.766us       0.000us         0.00%       0.000us       0.000us           0 b           0 b     103.79 Mb     103.79 Mb           118  \n",
            "                                             aten::gelu         0.05%     101.221us         0.08%     153.536us      38.384us      98.690us         0.92%      98.690us      24.673us           0 b           0 b      64.00 Mb      64.00 Mb             4  \n",
            "                                    aten::gelu_backward         0.04%      68.279us         0.06%     109.131us      27.283us     144.480us         1.34%     144.480us      36.120us           0 b           0 b      64.00 Mb      64.00 Mb             4  \n",
            "                                              aten::add         0.11%     211.163us         0.16%     301.379us      30.138us      79.647us         0.74%      79.647us       7.965us           0 b           0 b      40.00 Mb      40.00 Mb            10  \n",
            "                                          aten::resize_         0.04%      68.421us         0.04%      68.421us       5.702us       0.000us         0.00%       0.000us       0.000us           0 b           0 b      16.50 Mb      16.50 Mb            12  \n",
            "                                              aten::sub         0.02%      42.915us         0.03%      62.949us      31.474us      17.824us         0.17%      17.824us       8.912us           0 b           0 b      16.00 Mb      16.00 Mb             2  \n",
            "                                              aten::mul         0.03%      63.437us         0.06%     116.318us      29.079us      27.201us         0.25%      27.201us       6.800us           0 b           0 b      16.00 Mb      16.00 Mb             4  \n",
            "                                              aten::sum         0.44%     848.045us         0.69%       1.339ms      39.369us     684.987us         6.36%     684.987us      20.147us           0 b           0 b     532.00 Kb     532.00 Kb            34  \n",
            "                                             aten::tanh         0.03%      56.000us         0.04%      81.389us      40.695us       6.272us         0.06%       6.272us       3.136us           0 b           0 b      32.00 Kb      32.00 Kb             2  \n",
            "                                    aten::tanh_backward         0.02%      32.684us         0.03%      51.069us      25.535us       5.120us         0.05%       5.120us       2.560us           0 b           0 b      32.00 Kb      32.00 Kb             2  \n",
            "                                               aten::eq         0.04%      73.097us         0.05%     102.134us      51.067us       6.111us         0.06%       6.111us       3.055us           0 b           0 b      16.00 Kb      16.00 Kb             2  \n",
            "                                     aten::_log_softmax         0.03%      59.104us         0.05%      88.567us      44.283us       5.984us         0.06%       5.984us       2.992us           0 b           0 b      10.00 Kb      10.00 Kb             2  \n",
            "                                aten::nll_loss_backward         0.05%      99.744us         0.11%     217.160us     108.580us       5.984us         0.06%      10.592us       5.296us           0 b           0 b      10.00 Kb      10.00 Kb             2  \n",
            "                       aten::_log_softmax_backward_data         0.02%      34.987us         0.03%      56.518us      28.259us       6.240us         0.06%       6.240us       3.120us           0 b           0 b      10.00 Kb      10.00 Kb             2  \n",
            "                                 aten::nll_loss_forward         0.03%      51.265us         0.04%      71.705us      35.853us       6.720us         0.06%       6.720us       3.360us           0 b           0 b       2.00 Kb       2.00 Kb             2  \n",
            "                                              aten::all         0.04%      69.538us         0.05%      95.786us      47.893us      12.608us         0.12%      12.608us       6.304us           0 b           0 b       1.00 Kb       1.00 Kb             2  \n",
            "                                             aten::item         0.13%     251.826us         0.26%     501.254us       2.984us       0.000us         0.00%       9.600us       0.057us           0 b           0 b           0 b           0 b           168  \n",
            "-------------------------------------------------------  ------------  ------------  ------------  ------------  ------------  ------------  ------------  ------------  ------------  ------------  ------------  ------------  ------------  ------------  \n",
            "Self CPU time total: 193.341ms\n",
            "Self CUDA time total: 10.766ms\n",
            "\n",
            "-------------------------------------------------------  ------------  ------------  ------------  ------------  ------------  ------------  ------------  ------------  ------------  ------------  ------------  ------------  ------------  ------------  \n",
            "                                                   Name    Self CPU %      Self CPU   CPU total %     CPU total  CPU time avg     Self CUDA   Self CUDA %    CUDA total  CUDA time avg       CPU Mem  Self CPU Mem      CUDA Mem  Self CUDA Mem    # of Calls  \n",
            "-------------------------------------------------------  ------------  ------------  ------------  ------------  ------------  ------------  ------------  ------------  ------------  ------------  ------------  ------------  ------------  ------------  \n",
            "                                          ProfilerStep*         1.05%       2.023ms        92.87%     179.564ms      89.782ms       0.000us         0.00%       4.126ms       2.063ms     128.25 Kb    -128.25 Kb           0 b    -257.00 Kb             2  \n",
            "enumerate(DataLoader)#_SingleProcessDataLoaderIter._...        71.48%     138.203ms        73.04%     141.211ms      70.606ms       0.000us         0.00%       0.000us       0.000us     256.50 Kb    -384.50 Kb           0 b           0 b             2  \n",
            "                                          backward_pass         8.80%      17.006ms        11.56%      22.350ms      11.175ms       0.000us         0.00%     747.583us     373.792us         -64 b         -64 b    -265.45 Mb    -265.46 Mb             2  \n",
            "                                           forward_pass         2.72%       5.263ms         6.68%      12.913ms       6.456ms       0.000us         0.00%       3.340ms       1.670ms          64 b           0 b     298.96 Mb    -124.31 Mb             2  \n",
            "                              Optimizer.step#AdamW.step         1.50%       2.908ms         2.70%       5.225ms       2.613ms       0.000us         0.00%     744.032us     372.016us           0 b          -8 b           0 b     -33.50 Mb             2  \n",
            "    autograd::engine::evaluate_function: AddmmBackward0         0.32%     622.635us         2.66%       5.135ms     183.382us       0.000us         0.00%       3.313ms     118.335us           0 b           0 b    -100.83 Mb    -248.07 Mb            28  \n",
            "                                       cudaLaunchKernel         2.01%       3.891ms         2.01%       3.891ms       9.728us       0.000us         0.00%       0.000us       0.000us           0 b           0 b           0 b           0 b           400  \n",
            "                                         AddmmBackward0         0.21%     401.407us         1.69%       3.262ms     116.510us       0.000us         0.00%       2.697ms      96.320us           0 b           0 b     147.23 Mb           0 b            28  \n",
            "                                           aten::linear         0.16%     310.309us         1.55%       3.002ms     107.200us       0.000us         0.00%       1.970ms      70.368us           0 b           0 b     144.04 Mb           0 b            28  \n",
            "                                               aten::mm         0.74%       1.424ms         1.14%       2.206ms      39.395us       2.697ms        25.05%       2.697ms      48.160us           0 b           0 b     147.23 Mb     147.23 Mb            56  \n",
            "                                            aten::empty         1.08%       2.093ms         1.08%       2.093ms       4.671us       0.000us         0.00%       0.000us       0.000us     384.51 Kb     384.51 Kb     302.50 Mb     302.50 Mb           448  \n",
            "                                            aten::addmm         0.74%       1.436ms         1.08%       2.082ms      74.348us       1.970ms        18.30%       1.970ms      70.368us           0 b           0 b     144.04 Mb     116.04 Mb            28  \n",
            "autograd::engine::evaluate_function: EmbeddingBackwa...         0.04%      73.573us         0.99%       1.913ms     318.877us       0.000us         0.00%     970.433us     161.739us           0 b           0 b      22.06 Mb      -8.25 Mb             6  \n",
            "                                     EmbeddingBackward0         0.01%      26.401us         0.95%       1.840ms     306.614us       0.000us         0.00%     970.433us     161.739us           0 b           0 b      30.31 Mb           0 b             6  \n",
            "                               aten::embedding_backward         0.01%      16.616us         0.94%       1.813ms     302.214us       0.000us         0.00%     970.433us     161.739us           0 b           0 b      30.31 Mb           0 b             6  \n",
            "                         aten::embedding_dense_backward         0.26%     504.725us         0.93%       1.797ms     299.445us     919.617us         8.54%     970.433us     161.739us           0 b           0 b      30.31 Mb     -11.13 Mb             6  \n",
            "                                              aten::sum         0.44%     848.045us         0.69%       1.339ms      39.369us     684.987us         6.36%     684.987us      20.147us           0 b           0 b     532.00 Kb     532.00 Kb            34  \n",
            "autograd::engine::evaluate_function: ScaledDotProduc...         0.05%     104.673us         0.63%       1.213ms     303.324us       0.000us         0.00%       1.284ms     321.113us         -64 b         -64 b     -48.25 Mb     -96.25 Mb             4  \n",
            "     autograd::engine::evaluate_function: ViewBackward0         0.23%     450.045us         0.61%       1.178ms      18.404us       0.000us         0.00%     131.231us       2.050us           0 b           0 b     -64.00 Mb     -64.00 Mb            64  \n",
            "                                                aten::t         0.28%     532.834us         0.60%       1.158ms       8.273us       0.000us         0.00%       0.000us       0.000us           0 b           0 b           0 b           0 b           140  \n",
            "-------------------------------------------------------  ------------  ------------  ------------  ------------  ------------  ------------  ------------  ------------  ------------  ------------  ------------  ------------  ------------  ------------  \n",
            "Self CPU time total: 193.341ms\n",
            "Self CUDA time total: 10.766ms\n",
            "\n",
            "Average training loss: 2.5329\n",
            "Validation Accuracy: 0.4737\n",
            "Macro F1: 0.1802\n",
            "Weighted F1: 0.3723\n"
          ]
        }
      ]
    },
    {
      "cell_type": "code",
      "source": [],
      "metadata": {
        "id": "cs4-8so_K8xM"
      },
      "execution_count": null,
      "outputs": []
    },
    {
      "cell_type": "code",
      "source": [
        "torch.save(model.state_dict(), \"bert_classifier.pth\")"
      ],
      "metadata": {
        "id": "xafaZKrkzyqE"
      },
      "execution_count": 34,
      "outputs": []
    },
    {
      "cell_type": "code",
      "source": [
        "texts, labels, label_classes = load_news_data(\"/content/drive/MyDrive/News_Category_Dataset_v2.json\")\n",
        "\n",
        "encoder = LabelEncoder()\n",
        "encoder.classes_ = np.array(label_classes)\n",
        "\n",
        "test_text = \"NASA launches new space telescope to explore exoplanets.\"\n",
        "predicted_category = predict_news_category(test_text, model, tokenizer, device, encoder)\n",
        "\n",
        "print(f\"Headline: {test_text}\")\n",
        "print(f\"Predicted Category: {predicted_category}\")"
      ],
      "metadata": {
        "colab": {
          "base_uri": "https://localhost:8080/"
        },
        "id": "hu-ZX1FUf5_0",
        "outputId": "7d65a866-33ff-4289-acda-f27046bb56b7"
      },
      "execution_count": 43,
      "outputs": [
        {
          "output_type": "stream",
          "name": "stdout",
          "text": [
            "The dataset contains 40 unique categories.\n",
            "-------------------------------------------------------  ------------  ------------  ------------  ------------  ------------  ------------  ------------  ------------  ------------  ------------  ------------  ------------  ------------  ------------  \n",
            "                                                   Name    Self CPU %      Self CPU   CPU total %     CPU total  CPU time avg     Self CUDA   Self CUDA %    CUDA total  CUDA time avg       CPU Mem  Self CPU Mem      CUDA Mem  Self CUDA Mem    # of Calls  \n",
            "-------------------------------------------------------  ------------  ------------  ------------  ------------  ------------  ------------  ------------  ------------  ------------  ------------  ------------  ------------  ------------  ------------  \n",
            "                                      model_inference_2         0.00%       0.000us         0.00%       0.000us       0.000us       4.729ms       312.65%       4.729ms       4.729ms           0 b           0 b           0 b           0 b             1  \n",
            "                                      model_inference_3         0.00%       0.000us         0.00%       0.000us       0.000us       4.020ms       265.75%       4.020ms       4.020ms           0 b           0 b           0 b           0 b             1  \n",
            "                                      model_inference_5         0.00%       0.000us         0.00%       0.000us       0.000us       4.002ms       264.58%       4.002ms       4.002ms           0 b           0 b           0 b           0 b             1  \n",
            "                                      model_inference_4         0.00%       0.000us         0.00%       0.000us       0.000us       3.980ms       263.15%       3.980ms       3.980ms           0 b           0 b           0 b           0 b             1  \n",
            "                                      model_inference_6         0.00%       0.000us         0.00%       0.000us       0.000us       3.940ms       260.51%       3.940ms       3.940ms           0 b           0 b           0 b           0 b             1  \n",
            "                                          ProfilerStep*         1.79%     407.427us        99.90%      22.738ms       4.548ms       0.000us         0.00%       1.513ms     302.521us           0 b           0 b           0 b           0 b             5  \n",
            "                                           aten::linear         3.33%     757.491us        25.80%       5.873ms      83.904us       0.000us         0.00%     703.400us      10.049us           0 b           0 b       5.63 Mb           0 b            70  \n",
            "                                            aten::addmm        11.60%       2.640ms        18.14%       4.130ms      58.997us     703.400us        46.50%     703.400us      10.049us           0 b           0 b       5.63 Mb     -64.37 Mb            70  \n",
            "                        ampere_sgemm_32x32_sliced1x4_tn         0.00%       0.000us         0.00%       0.000us       0.000us     622.665us        41.17%     622.665us      10.378us           0 b           0 b           0 b           0 b            60  \n",
            "                     aten::scaled_dot_product_attention         0.76%     173.118us         4.65%       1.058ms     105.842us       0.000us         0.00%     304.225us      30.423us           0 b        -160 b     640.00 Kb           0 b            10  \n",
            "          aten::_scaled_dot_product_efficient_attention         0.59%     133.243us         3.63%     825.132us      82.513us       0.000us         0.00%     304.225us      30.423us         160 b           0 b     640.00 Kb           0 b            10  \n",
            "                     aten::_efficient_attention_forward         0.96%     218.688us         2.34%     533.670us      53.367us     304.225us        20.11%     304.225us      30.423us         160 b           0 b     640.00 Kb           0 b            10  \n",
            "fmha_cutlassF_f32_aligned_64x64_rf_sm80(PyTorchMemEf...         0.00%       0.000us         0.00%       0.000us       0.000us     304.225us        20.11%     304.225us      30.423us           0 b           0 b           0 b           0 b            10  \n",
            "                                      model_inference_3         7.80%       1.775ms        18.98%       4.319ms       4.319ms       0.000us         0.00%     303.134us     303.134us           0 b           0 b           0 b      -2.77 Mb             1  \n",
            "                                      model_inference_6         7.36%       1.676ms        18.53%       4.218ms       4.218ms       0.000us         0.00%     303.006us     303.006us           0 b           0 b           0 b      -2.77 Mb             1  \n",
            "                                      model_inference_2        10.93%       2.488ms        22.93%       5.218ms       5.218ms       0.000us         0.00%     302.595us     302.595us           0 b           0 b           0 b      -2.77 Mb             1  \n",
            "                                      model_inference_5         7.43%       1.692ms        18.87%       4.296ms       4.296ms       0.000us         0.00%     302.082us     302.082us           0 b           0 b           0 b      -2.77 Mb             1  \n",
            "                                      model_inference_4         7.60%       1.730ms        18.80%       4.280ms       4.280ms       0.000us         0.00%     301.789us     301.789us           0 b           0 b           0 b      -2.77 Mb             1  \n",
            "                                       aten::layer_norm         0.70%     159.665us         6.49%       1.477ms      59.079us       0.000us         0.00%     139.868us       5.595us           0 b           0 b       1.56 Mb     -25.00 Kb            25  \n",
            "                                aten::native_layer_norm         2.56%     582.831us         5.79%       1.317ms      52.693us     139.868us         9.25%     139.868us       5.595us           0 b           0 b       1.59 Mb           0 b            25  \n",
            "-------------------------------------------------------  ------------  ------------  ------------  ------------  ------------  ------------  ------------  ------------  ------------  ------------  ------------  ------------  ------------  ------------  \n",
            "Self CPU time total: 22.761ms\n",
            "Self CUDA time total: 1.513ms\n",
            "\n",
            "-------------------------------------------------------  ------------  ------------  ------------  ------------  ------------  ------------  ------------  ------------  ------------  ------------  ------------  ------------  ------------  ------------  \n",
            "                                                   Name    Self CPU %      Self CPU   CPU total %     CPU total  CPU time avg     Self CUDA   Self CUDA %    CUDA total  CUDA time avg       CPU Mem  Self CPU Mem      CUDA Mem  Self CUDA Mem    # of Calls  \n",
            "-------------------------------------------------------  ------------  ------------  ------------  ------------  ------------  ------------  ------------  ------------  ------------  ------------  ------------  ------------  ------------  ------------  \n",
            "                                            aten::empty         5.35%       1.217ms         5.35%       1.217ms       5.938us       0.000us         0.00%       0.000us       0.000us         160 b         160 b      72.52 Mb      72.52 Mb           205  \n",
            "                                             aten::gelu         0.86%     195.192us         1.31%     298.805us      29.881us      32.158us         2.13%      32.158us       3.216us           0 b           0 b       2.50 Mb       2.50 Mb            10  \n",
            "                                              aten::add         2.01%     457.188us         3.09%     703.145us      28.126us      68.031us         4.50%      68.031us       2.721us           0 b           0 b       1.56 Mb       1.56 Mb            25  \n",
            "                                          aten::resize_         0.35%      80.498us         0.35%      80.498us       5.367us       0.000us         0.00%       0.000us       0.000us           0 b           0 b     960.00 Kb     960.00 Kb            15  \n",
            "                                    aten::empty_strided         0.36%      81.336us         0.36%      81.336us       8.134us       0.000us         0.00%       0.000us       0.000us           0 b           0 b     400.00 Kb     400.00 Kb            10  \n",
            "                                              aten::sub         0.37%      83.975us         0.57%     128.837us      25.767us      12.863us         0.85%      12.863us       2.573us           0 b           0 b     320.00 Kb     320.00 Kb             5  \n",
            "                                              aten::max         0.69%     157.465us         1.04%     236.413us      47.283us      27.264us         1.80%      27.264us       5.453us           0 b           0 b       5.00 Kb       5.00 Kb             5  \n",
            "                                               aten::eq         0.55%     124.870us         0.86%     196.645us      39.329us      10.366us         0.69%      10.366us       2.073us           0 b           0 b       2.50 Kb       2.50 Kb             5  \n",
            "                                              aten::all         0.49%     112.156us         0.78%     176.965us      35.393us      24.608us         1.63%      24.608us       4.922us           0 b           0 b       2.50 Kb       2.50 Kb             5  \n",
            "                                             aten::tanh         0.38%      86.935us         0.60%     136.736us      27.347us      11.744us         0.78%      11.744us       2.349us           0 b           0 b       2.50 Kb       2.50 Kb             5  \n",
            "                                          ProfilerStep*         1.79%     407.427us        99.90%      22.738ms       4.548ms       0.000us         0.00%       1.513ms     302.521us           0 b           0 b           0 b           0 b             5  \n",
            "                                            aten::slice         1.13%     256.382us         1.31%     297.996us       8.514us       0.000us         0.00%       0.000us       0.000us           0 b           0 b           0 b           0 b            35  \n",
            "                                       aten::as_strided         1.17%     266.162us         1.17%     266.162us       1.133us       0.000us         0.00%       0.000us       0.000us           0 b           0 b           0 b           0 b           235  \n",
            "                                           aten::expand         0.44%     101.272us         0.52%     119.296us       5.965us       0.000us         0.00%       0.000us       0.000us           0 b           0 b           0 b           0 b            20  \n",
            "                                        aten::embedding         0.61%     138.630us         3.78%     860.768us      57.385us       0.000us         0.00%      70.814us       4.721us           0 b           0 b     960.00 Kb           0 b            15  \n",
            "                                          aten::reshape         0.79%     178.877us         1.64%     372.352us       4.381us       0.000us         0.00%       0.000us       0.000us           0 b           0 b           0 b           0 b            85  \n",
            "                                             aten::view         2.01%     457.887us         2.01%     457.887us       1.908us       0.000us         0.00%       0.000us       0.000us           0 b           0 b           0 b           0 b           240  \n",
            "                                     aten::index_select         1.15%     261.409us         2.81%     639.782us      42.652us      70.814us         4.68%      70.814us       4.721us           0 b           0 b     960.00 Kb           0 b            15  \n",
            "                                       cudaLaunchKernel        10.06%       2.291ms        10.06%       2.291ms      10.909us       0.000us         0.00%       0.000us       0.000us           0 b           0 b           0 b           0 b           210  \n",
            "                                      model_inference_2         0.00%       0.000us         0.00%       0.000us       0.000us       4.729ms       312.65%       4.729ms       4.729ms           0 b           0 b           0 b           0 b             1  \n",
            "-------------------------------------------------------  ------------  ------------  ------------  ------------  ------------  ------------  ------------  ------------  ------------  ------------  ------------  ------------  ------------  ------------  \n",
            "Self CPU time total: 22.761ms\n",
            "Self CUDA time total: 1.513ms\n",
            "\n",
            "-------------------------------------------------------  ------------  ------------  ------------  ------------  ------------  ------------  ------------  ------------  ------------  ------------  ------------  ------------  ------------  ------------  \n",
            "                                                   Name    Self CPU %      Self CPU   CPU total %     CPU total  CPU time avg     Self CUDA   Self CUDA %    CUDA total  CUDA time avg       CPU Mem  Self CPU Mem      CUDA Mem  Self CUDA Mem    # of Calls  \n",
            "-------------------------------------------------------  ------------  ------------  ------------  ------------  ------------  ------------  ------------  ------------  ------------  ------------  ------------  ------------  ------------  ------------  \n",
            "                                          ProfilerStep*         1.79%     407.427us        99.90%      22.738ms       4.548ms       0.000us         0.00%       1.513ms     302.521us           0 b           0 b           0 b           0 b             5  \n",
            "                                           aten::linear         3.33%     757.491us        25.80%       5.873ms      83.904us       0.000us         0.00%     703.400us      10.049us           0 b           0 b       5.63 Mb           0 b            70  \n",
            "                                      model_inference_2        10.93%       2.488ms        22.93%       5.218ms       5.218ms       0.000us         0.00%     302.595us     302.595us           0 b           0 b           0 b      -2.77 Mb             1  \n",
            "                                      model_inference_3         7.80%       1.775ms        18.98%       4.319ms       4.319ms       0.000us         0.00%     303.134us     303.134us           0 b           0 b           0 b      -2.77 Mb             1  \n",
            "                                      model_inference_5         7.43%       1.692ms        18.87%       4.296ms       4.296ms       0.000us         0.00%     302.082us     302.082us           0 b           0 b           0 b      -2.77 Mb             1  \n",
            "                                      model_inference_4         7.60%       1.730ms        18.80%       4.280ms       4.280ms       0.000us         0.00%     301.789us     301.789us           0 b           0 b           0 b      -2.77 Mb             1  \n",
            "                                      model_inference_6         7.36%       1.676ms        18.53%       4.218ms       4.218ms       0.000us         0.00%     303.006us     303.006us           0 b           0 b           0 b      -2.77 Mb             1  \n",
            "                                            aten::addmm        11.60%       2.640ms        18.14%       4.130ms      58.997us     703.400us        46.50%     703.400us      10.049us           0 b           0 b       5.63 Mb     -64.37 Mb            70  \n",
            "                                       cudaLaunchKernel        10.06%       2.291ms        10.06%       2.291ms      10.909us       0.000us         0.00%       0.000us       0.000us           0 b           0 b           0 b           0 b           210  \n",
            "                                       aten::layer_norm         0.70%     159.665us         6.49%       1.477ms      59.079us       0.000us         0.00%     139.868us       5.595us           0 b           0 b       1.56 Mb     -25.00 Kb            25  \n",
            "                                aten::native_layer_norm         2.56%     582.831us         5.79%       1.317ms      52.693us     139.868us         9.25%     139.868us       5.595us           0 b           0 b       1.59 Mb           0 b            25  \n",
            "                                            aten::empty         5.35%       1.217ms         5.35%       1.217ms       5.938us       0.000us         0.00%       0.000us       0.000us         160 b         160 b      72.52 Mb      72.52 Mb           205  \n",
            "                     aten::scaled_dot_product_attention         0.76%     173.118us         4.65%       1.058ms     105.842us       0.000us         0.00%     304.225us      30.423us           0 b        -160 b     640.00 Kb           0 b            10  \n",
            "                                        aten::embedding         0.61%     138.630us         3.78%     860.768us      57.385us       0.000us         0.00%      70.814us       4.721us           0 b           0 b     960.00 Kb           0 b            15  \n",
            "          aten::_scaled_dot_product_efficient_attention         0.59%     133.243us         3.63%     825.132us      82.513us       0.000us         0.00%     304.225us      30.423us         160 b           0 b     640.00 Kb           0 b            10  \n",
            "                                              aten::add         2.01%     457.188us         3.09%     703.145us      28.126us      68.031us         4.50%      68.031us       2.721us           0 b           0 b       1.56 Mb       1.56 Mb            25  \n",
            "                                     aten::index_select         1.15%     261.409us         2.81%     639.782us      42.652us      70.814us         4.68%      70.814us       4.721us           0 b           0 b     960.00 Kb           0 b            15  \n",
            "                                                aten::t         1.05%     238.581us         2.58%     586.204us       8.374us       0.000us         0.00%       0.000us       0.000us           0 b           0 b           0 b           0 b            70  \n",
            "                                        aten::transpose         1.83%     416.431us         2.44%     554.419us       4.620us       0.000us         0.00%       0.000us       0.000us           0 b           0 b           0 b           0 b           120  \n",
            "                     aten::_efficient_attention_forward         0.96%     218.688us         2.34%     533.670us      53.367us     304.225us        20.11%     304.225us      30.423us         160 b           0 b     640.00 Kb           0 b            10  \n",
            "-------------------------------------------------------  ------------  ------------  ------------  ------------  ------------  ------------  ------------  ------------  ------------  ------------  ------------  ------------  ------------  ------------  \n",
            "Self CPU time total: 22.761ms\n",
            "Self CUDA time total: 1.513ms\n",
            "\n",
            "✅ Warmup profiling done. Use TensorBoard:\n",
            "\n",
            "  %tensorboard --logdir=./log_predict_base_warmup\n",
            "Headline: NASA launches new space telescope to explore exoplanets.\n",
            "Predicted Category: TRAVEL\n"
          ]
        }
      ]
    }
  ]
}